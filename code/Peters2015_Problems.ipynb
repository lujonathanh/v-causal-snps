{
 "cells": [
  {
   "cell_type": "markdown",
   "metadata": {},
   "source": [
    "$$ V  = N_V$$\n",
    "$$W = -2V + 3Y + 5Z + N_W$$\n",
    "$$X = 2V + N_X$$\n",
    "$$Y = -X + N_Y$$\n",
    "$$Z = \\alpha X + N_Z$$\n",
    "$$N_V, N_W, N_X, N_Y, N_Z \\sim \\mathcal{N}(0,1)$$"
   ]
  },
  {
   "cell_type": "code",
   "execution_count": 4,
   "metadata": {
    "collapsed": true
   },
   "outputs": [],
   "source": [
    "# Simulat e200 i.i.d data points, and visualize\n",
    "\n",
    "import numpy as np\n",
    "n = 200\n",
    "alpha = 2\n",
    "V = np.random.normal(0, 1, size=n)\n",
    "X = 2* V + np.random.normal(0, 1, size=n)\n",
    "Y = -1 * X + np.random.normal(0, 1, size=n)\n",
    "Z = alpha * X + np.random.normal(0, 1, size=n)\n",
    "W = -2 * V + 3 * Y + 5 * Z + np.random.normal(0, 1, size=n)"
   ]
  },
  {
   "cell_type": "code",
   "execution_count": 5,
   "metadata": {
    "collapsed": false
   },
   "outputs": [
    {
     "data": {
      "text/plain": [
       "<matplotlib.collections.PathCollection at 0x105aaf190>"
      ]
     },
     "execution_count": 5,
     "metadata": {},
     "output_type": "execute_result"
    },
    {
     "name": "stderr",
     "output_type": "stream",
     "text": [
      "/Library/Frameworks/Python.framework/Versions/2.7/lib/python2.7/site-packages/matplotlib/collections.py:590: FutureWarning: elementwise comparison failed; returning scalar instead, but in the future will perform elementwise comparison\n",
      "  if self._edgecolors == str('face'):\n"
     ]
    },
    {
     "data": {
      "image/png": "[encoded data removed]",
      "text/plain": [
       "<matplotlib.figure.Figure at 0x10590c5d0>"
      ]
     },
     "metadata": {},
     "output_type": "display_data"
    }
   ],
   "source": [
    "import matplotlib.pyplot as plt\n",
    "%matplotlib inline\n",
    "plt.scatter(X, W)"
   ]
  },
  {
   "cell_type": "code",
   "execution_count": 6,
   "metadata": {
    "collapsed": false
   },
   "outputs": [
    {
     "data": {
      "text/plain": [
       "<matplotlib.collections.PathCollection at 0x105c01c90>"
      ]
     },
     "execution_count": 6,
     "metadata": {},
     "output_type": "execute_result"
    },
    {
     "data": {
      "image/png": "[encoded data removed]",
      "text/plain": [
       "<matplotlib.figure.Figure at 0x105ae9950>"
      ]
     },
     "metadata": {},
     "output_type": "display_data"
    }
   ],
   "source": [
    "# Now let's intervene on X\n",
    "\n",
    "V = np.random.normal(0, 1, size=n)\n",
    "X = np.ones(n)\n",
    "Y = -1 * X + np.random.normal(0, 1, size=n)\n",
    "Z = alpha * X + np.random.normal(0, 1, size=n)\n",
    "W = -2 * V + 3 * Y + 5 * Z + np.random.normal(0, 1, size=n)\n",
    "plt.scatter(X, W)"
   ]
  },
  {
   "cell_type": "markdown",
   "metadata": {},
   "source": [
    "# Without intervening, W ranges from -40 to 40. With intervening, it ranges from -12 to 20."
   ]
  },
  {
   "cell_type": "markdown",
   "metadata": {},
   "source": [
    "Problem 2.6d\n",
    "$$ V  = N_V$$\n",
    "$$W = -2V + 3Y + 5Z + N_W$$\n",
    "$$X = 2V + N_X$$\n",
    "$$Y = -X + N_Y$$\n",
    "$$Z = \\alpha X + N_Z$$\n",
    "$$N_V, N_W, N_X, N_Y, N_Z \\sim \\mathcal{N}(0,1)$$\n",
    "$$W = -2V + 3(-X + N_Y) + 5 * \\alpha X + 5 N_Z + N_W \\\\\n",
    "= -2V + (5 * \\alpha -3) X + \\text{ some nois terms that arent } \\\\\n",
    "$$\n",
    "If we set $ \\alpha = 3/5$, the coefficient of X is 0, so no $N_X$ term is in the final value for W.\n",
    "By definition, $\\mathbb{P}^W = \\mathbb{P}^{W | do(X = \\tilde{N}_X)}$ for any new distribution $\\tilde{N}_X$ we can think of.\n",
    "Thus there would be no causal effect from W to X despite the directed path.\n",
    "\n",
    "Problem 2.6e\n",
    "For a given $\\alpha$, find $\\frac{\\partial}{\\partial x} \\mathbb{E}[W | do(X=x)$\n",
    "$$\\mathbb{E}[W | do(X=x) \\\\\n",
    "= \\mathbb{E} -2V + (5 * \\alpha -3) X + \\text{ some noise terms that are zero-centered normals } \\\\\n",
    "= (5 * \\alpha - 3)x$$ (knowing X = x and taking expectations.\n",
    "So, the partial is $ 5 * \\alpha - 3.$"
   ]
  },
  {
   "cell_type": "markdown",
   "metadata": {},
   "source": [
    "Problem 2.6.2\n",
    "Prove that one can d-separate any two nodes in a DAG G that are not\n",
    "directly connected by an edge\n",
    "Take A and B.\n",
    "If A and B aren't connected, then simply by conditioning on all the nodes on paths connected the two, one can d-seperate A and B.\n",
    "\n",
    "Use this to prove the remark: If $\\mathbb{P}^{\\boldsymbol{X}}$ is faithful and Markov w.r.t. $\\mathcal{G}$, causal minimality is satisfied.\n",
    "\n",
    "Markov property:  $A, B$ are d-seperated by C \\rightarrow $A \\independent B | \\boldsymbol{C}$ \n",
    "Faithfuleness: $A \\independent B | \\boldsymbol{C}$ \\rightarrow $A, B$ are d-seperated by C.\n",
    "Causal Minimality: A distribution is Markov w.r.t. \\mathcal{G} but not any sub-graph of \\mathcal{G}.\n",
    "\n",
    "Suppose distribution were Markov w.r.t. subgraph of \\mathcal{G}.\n",
    "Case 1: Subgraph is missing a node.\n",
    "Then the distribution doesn't apply to the subgraph (missing a variable)\n",
    "\n",
    "Case 2: Subgraph is missing an edge. Let edge connect A \\rightarrow B.\n",
    "\n",
    "Now, we can d-seperate A and B.\n",
    "This means A and B are conditionally indepenent. (Markov of sub-graph)\n",
    "That violates the faithfulness propety of the original graph, since A and B aren't d-seperated there. Q.E.D.\n"
   ]
  },
  {
   "cell_type": "code",
   "execution_count": null,
   "metadata": {
    "collapsed": true
   },
   "outputs": [],
   "source": []
  }
 ],
 "metadata": {
  "kernelspec": {
   "display_name": "Python 2",
   "language": "python",
   "name": "python2"
  },
  "language_info": {
   "codemirror_mode": {
    "name": "ipython",
    "version": 2
   },
   "file_extension": ".py",
   "mimetype": "text/x-python",
   "name": "python",
   "nbconvert_exporter": "python",
   "pygments_lexer": "ipython2",
   "version": "2.7.10"
  }
 },
 "nbformat": 4,
 "nbformat_minor": 0
}
